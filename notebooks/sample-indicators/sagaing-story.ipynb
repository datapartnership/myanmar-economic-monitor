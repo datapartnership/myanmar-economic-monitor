{
 "cells": [
  {
   "cell_type": "code",
   "execution_count": 16,
   "metadata": {
    "tags": [
     "remove-cell"
    ]
   },
   "outputs": [],
   "source": [
    "import pandas as pd\n",
    "import geopandas as gpd\n",
    "import matplotlib.pyplot as plt"
   ]
  },
  {
   "attachments": {},
   "cell_type": "markdown",
   "metadata": {},
   "source": [
    "# The Story of Sagaing\n",
    "\n",
    "As early as April 11, 2023, the Myanmar military used \"thermobaric\" munition for an attack on the oppoisition building. The region of Sagaing has seen conflict consistently since early 2021 when the government led by Aung San Suu Kyi’s party was overthrown by the military. In this notebook we see some correlations between ACLED Conflict Index data and change in Night Time Lights in Sagaing."
   ]
  },
  {
   "cell_type": "code",
   "execution_count": 4,
   "metadata": {
    "tags": [
     "remove-cell"
    ]
   },
   "outputs": [],
   "source": [
    "myanmar_adm3 = gpd.read_file(\n",
    "    \"../../data/shapefiles/mmr_polbnda_adm3_250k_mimu/mmr_polbnda_adm3_250k_mimu.shp\"\n",
    ")\n",
    "myanmar_adm2 = gpd.read_file(\n",
    "    \"../../data/shapefiles/mmr_polbnda_adm2_250k_mimu_1/mmr_polbnda_adm2_250k_mimu_1.shp\"\n",
    ")\n",
    "myanmar_adm1 = gpd.read_file(\n",
    "    \"../../data/shapefiles/mmr_polbnda2_adm1_250k_mimu/mmr_polbnda2_adm1_250k_mimu.shp\"\n",
    ")\n",
    "\n",
    "sez = gpd.read_file(\n",
    "    \"../../data/shapefiles/industrial__special_economic_zones_sept2019/industrial__special_economic_zones_sept2019.shp\"\n",
    ")\n",
    "sez_hdx = gpd.read_file(\n",
    "    \"../../data/shapefiles/industrial__special_economic_zones_sept2019_hdx/industrial__special_economic_zones_sept2019.shp\"\n",
    ")\n",
    "ntl_sez = pd.read_csv(\"../../data/night-time-lights/admsez_VNP46A3.csv\")\n",
    "ntl_adm2 = pd.read_csv(\"../../data/night-time-lights/adm2_VNP46A3.csv\")\n",
    "ntl_adm3 = pd.read_csv(\"../../data/night-time-lights/adm3_VNP46A4.csv\")\n",
    "ntl_adm1 = pd.read_csv(\"../../data/night-time-lights/adm1_VNP46A3.csv\")\n",
    "\n",
    "acled = pd.read_csv(\"../../data/conflict/2012-01-01-2023-05-16-Myanmar.csv\")\n",
    "conflict = pd.read_csv(\"../../data/conflict/conflict_data_mmr.csv\")"
   ]
  },
  {
   "cell_type": "code",
   "execution_count": 5,
   "metadata": {
    "tags": [
     "remove-cell"
    ]
   },
   "outputs": [],
   "source": [
    "from datetime import datetime\n",
    "\n",
    "acled[\"event_date\"] = acled[\"event_date\"].apply(\n",
    "    lambda x: datetime.strptime(x, \"%d %B %Y\")\n",
    ")\n",
    "\n",
    "acled = acled[acled[\"event_type\"] != \"Strategic developments\"]\n",
    "acled = acled[acled[\"event_date\"] >= \"2020-01-01\"]"
   ]
  },
  {
   "cell_type": "code",
   "execution_count": 7,
   "metadata": {
    "tags": [
     "remove-cell"
    ]
   },
   "outputs": [],
   "source": [
    "from shapely.geometry import Point\n",
    "\n",
    "\n",
    "def convert_to_gdf(df):\n",
    "    geometry = [Point(xy) for xy in zip(df.longitude, df.latitude)]\n",
    "    gdf = gpd.GeoDataFrame(df, crs=\"EPSG:4326\", geometry=geometry)\n",
    "\n",
    "    return gdf"
   ]
  },
  {
   "cell_type": "code",
   "execution_count": 12,
   "metadata": {
    "tags": [
     "remove-cell"
    ]
   },
   "outputs": [],
   "source": [
    "from scipy.stats import gmean\n",
    "\n",
    "\n",
    "def get_acled_by_admin(\n",
    "    myanmar_adm2, acled, columns=[\"DT\", \"DT_PCODE\", \"ST\"], nearest=False\n",
    "):\n",
    "    acled_adm2 = convert_to_gdf(acled)\n",
    "    if nearest == True:\n",
    "        acled_adm2 = (\n",
    "            myanmar_adm2.sjoin_nearest(acled_adm2)[\n",
    "                [\"event_date\", \"fatalities\", \"event_type\"] + columns\n",
    "            ]\n",
    "            .groupby([pd.Grouper(key=\"event_date\", freq=\"M\", closed=\"left\")] + columns)[\n",
    "                \"fatalities\"\n",
    "            ]\n",
    "            .agg([\"sum\", \"count\"])\n",
    "            .reset_index()\n",
    "        )\n",
    "    else:\n",
    "        acled_adm2 = (\n",
    "            myanmar_adm2.sjoin(acled_adm2)[\n",
    "                [\"event_date\", \"fatalities\", \"event_type\"] + columns\n",
    "            ]\n",
    "            .groupby([pd.Grouper(key=\"event_date\", freq=\"M\", closed=\"left\")] + columns)[\n",
    "                \"fatalities\"\n",
    "            ]\n",
    "            .agg([\"sum\", \"count\"])\n",
    "            .reset_index()\n",
    "        )\n",
    "    acled_adm2.rename(columns={\"sum\": \"fatalities\", \"count\": \"nrEvents\"}, inplace=True)\n",
    "    acled_adm2[\"conflictIndex\"] = acled_adm2.apply(\n",
    "        lambda row: gmean([row[\"nrEvents\"], row[\"fatalities\"]]), axis=1\n",
    "    )\n",
    "    acled_adm2[\"event_date_map\"] = acled_adm2[\"event_date\"].apply(\n",
    "        lambda x: x.date().replace(day=1)\n",
    "    )\n",
    "\n",
    "    return acled_adm2.reset_index()\n",
    "\n",
    "\n",
    "# .pivot(index = 'DT_PCODE', columns='event_date').sort_values(by='DT_PCODE')"
   ]
  },
  {
   "cell_type": "code",
   "execution_count": 60,
   "metadata": {
    "tags": [
     "remve-cell"
    ]
   },
   "outputs": [
    {
     "name": "stderr",
     "output_type": "stream",
     "text": [
      "c:\\Users\\sahit\\anaconda3\\envs\\turkey-rdna\\lib\\site-packages\\geopandas\\geodataframe.py:2061: UserWarning: CRS mismatch between the CRS of left geometries and the CRS of right geometries.\n",
      "Use `to_crs()` to reproject one of the input geometries to match the CRS of the other.\n",
      "\n",
      "Left CRS: GEOGCS[\"WGS 84\",DATUM[\"WGS_1984\",SPHEROID[\"WGS 84\" ...\n",
      "Right CRS: EPSG:4326\n",
      "\n",
      "  return geopandas.sjoin(left_df=self, right_df=df, *args, **kwargs)\n"
     ]
    }
   ],
   "source": [
    "acled_adm2_disagg = convert_to_gdf(acled)\n",
    "acled_adm2_disagg = (\n",
    "    myanmar_adm2.sjoin(acled_adm2_disagg)[\n",
    "        [\"event_date\", \"fatalities\", \"event_type\", \"sub_event_type\"] + [\"ST\"]\n",
    "    ]\n",
    "    .groupby(\n",
    "        [\n",
    "            \"event_type\",\n",
    "            \"sub_event_type\",\n",
    "            pd.Grouper(key=\"event_date\", freq=\"M\", closed=\"left\"),\n",
    "        ]\n",
    "        + [\"ST\"]\n",
    "    )[\"fatalities\"]\n",
    "    .agg([\"sum\", \"count\"])\n",
    "    .reset_index()\n",
    ")"
   ]
  },
  {
   "cell_type": "code",
   "execution_count": 13,
   "metadata": {
    "tags": [
     "remove-cell"
    ]
   },
   "outputs": [
    {
     "name": "stderr",
     "output_type": "stream",
     "text": [
      "c:\\Users\\sahit\\anaconda3\\envs\\turkey-rdna\\lib\\site-packages\\geopandas\\geodataframe.py:2061: UserWarning: CRS mismatch between the CRS of left geometries and the CRS of right geometries.\n",
      "Use `to_crs()` to reproject one of the input geometries to match the CRS of the other.\n",
      "\n",
      "Left CRS: GEOGCS[\"WGS 84\",DATUM[\"WGS_1984\",SPHEROID[\"WGS 84\" ...\n",
      "Right CRS: EPSG:4326\n",
      "\n",
      "  return geopandas.sjoin(left_df=self, right_df=df, *args, **kwargs)\n"
     ]
    }
   ],
   "source": [
    "acled_adm2 = get_acled_by_admin(myanmar_adm2, acled)"
   ]
  },
  {
   "cell_type": "code",
   "execution_count": 14,
   "metadata": {
    "tags": [
     "remove-cell"
    ]
   },
   "outputs": [],
   "source": [
    "ntl_adm1[\"date\"] = ntl_adm1[\"date\"].apply(lambda x: datetime.strptime(x, \"%Y-%m-%d\"))\n",
    "ntl_adm2[\"date\"] = ntl_adm2[\"date\"].apply(lambda x: datetime.strptime(x, \"%Y-%m-%d\"))\n",
    "ntl_adm2[\"date_map\"] = ntl_adm2[\"date\"].apply(lambda x: x.date())"
   ]
  },
  {
   "cell_type": "code",
   "execution_count": 15,
   "metadata": {
    "tags": [
     "remove-cell"
    ]
   },
   "outputs": [],
   "source": [
    "ntl_adm2[\"NAME_2\"].replace(\n",
    "    {\n",
    "        \"Yangon-E\": \"Yangon (East)\",\n",
    "        \"Yangon-W\": \"Yangon (West)\",\n",
    "        \"Yangon-N\": \"Yangon (North)\",\n",
    "        \"Yangon-S\": \"Yangon (South)\",\n",
    "    },\n",
    "    inplace=True,\n",
    ")\n",
    "df = ntl_adm2.merge(\n",
    "    acled_adm2, left_on=[\"date_map\", \"NAME_2\"], right_on=[\"event_date_map\", \"DT\"]\n",
    ")"
   ]
  },
  {
   "attachments": {},
   "cell_type": "markdown",
   "metadata": {},
   "source": [
    "## Events that occured in Sagaing since 2021\n",
    "\n",
    "* The military torched homes in Sagaing in September 2021. [News Report](https://www.aljazeera.com/news/2021/9/23/myanmar-violence-erupts)\n",
    "* August - October 2022 there was a cutoff of internet [News Report](https://engagemedia.org/2023/myanmar-digital-coup-quarterly-august-october-2022/)"
   ]
  },
  {
   "cell_type": "code",
   "execution_count": 42,
   "metadata": {
    "tags": [
     "hide-input"
    ]
   },
   "outputs": [
    {
     "data": {
      "text/plain": [
       "Text(0.5, 1.0, 'Correlation between conflict index and Night Time Lights in Sagaing')"
      ]
     },
     "execution_count": 42,
     "metadata": {},
     "output_type": "execute_result"
    },
    {
     "data": {
      "image/png": "[encoded data removed]",
      "text/plain": [
       "<Figure size 1000x400 with 2 Axes>"
      ]
     },
     "metadata": {},
     "output_type": "display_data"
    }
   ],
   "source": [
    "plt.rcParams[\"font.family\"] = \"Georgia\"\n",
    "\n",
    "plt.show()\n",
    "\n",
    "fig, axs = plt.subplots(1, 1, figsize=(10, 4))\n",
    "ax = axs  # .flatten()\n",
    "\n",
    "# for i, ST in enumerate(['Sagaing']):\n",
    "df1 = df[df[\"NAME_2\"] == \"Sagaing\"]\n",
    "ax.plot(df1[\"date\"], df1[\"ntl_bm_mean\"], \"#1F77B4\", label=\"ntl\")\n",
    "ax.set_ylabel(\"Night Time Lights\")\n",
    "ax.tick_params(\"y\", colors=\"#1F77B4\")\n",
    "\n",
    "ax1 = ax.twinx()\n",
    "ax1.plot(df1[\"date\"], df1[\"conflictIndex\"], \"#FF7F00\", label=\"conflict index\")\n",
    "ax1.set_xlabel(\"x\")\n",
    "ax1.set_ylabel(\"Conflict Index\")\n",
    "ax1.tick_params(\"y\", colors=\"#FF7F00\")\n",
    "\n",
    "ax1.spines[\"top\"].set_visible(False)\n",
    "ax.spines[\"top\"].set_visible(False)\n",
    "ax.spines[\"left\"].set_color(\"grey\")\n",
    "ax1.spines[\"left\"].set_color(\"grey\")\n",
    "ax.spines[\"right\"].set_color(\"grey\")\n",
    "ax1.spines[\"right\"].set_color(\"grey\")\n",
    "ax.spines[\"bottom\"].set_color(\"grey\")\n",
    "ax1.spines[\"bottom\"].set_color(\"grey\")\n",
    "\n",
    "\n",
    "lines = ax1.get_lines() + ax.get_lines()\n",
    "labels = [line.get_label() for line in lines]\n",
    "ax.legend(lines, labels, loc=\"upper left\")\n",
    "\n",
    "\n",
    "ax.set_title(\"Correlation between conflict index and Night Time Lights in Sagaing\")"
   ]
  },
  {
   "cell_type": "code",
   "execution_count": 67,
   "metadata": {},
   "outputs": [
    {
     "data": {
      "text/html": [
       "<div>\n",
       "<style scoped>\n",
       "    .dataframe tbody tr th:only-of-type {\n",
       "        vertical-align: middle;\n",
       "    }\n",
       "\n",
       "    .dataframe tbody tr th {\n",
       "        vertical-align: top;\n",
       "    }\n",
       "\n",
       "    .dataframe thead th {\n",
       "        text-align: right;\n",
       "    }\n",
       "</style>\n",
       "<table border=\"1\" class=\"dataframe\">\n",
       "  <thead>\n",
       "    <tr style=\"text-align: right;\">\n",
       "      <th></th>\n",
       "      <th>event_type</th>\n",
       "      <th>sub_event_type</th>\n",
       "      <th>event_date</th>\n",
       "      <th>ST</th>\n",
       "      <th>sum</th>\n",
       "      <th>count</th>\n",
       "    </tr>\n",
       "  </thead>\n",
       "  <tbody>\n",
       "    <tr>\n",
       "      <th>167</th>\n",
       "      <td>Battles</td>\n",
       "      <td>Armed clash</td>\n",
       "      <td>2021-10-31</td>\n",
       "      <td>Sagaing</td>\n",
       "      <td>451</td>\n",
       "      <td>59</td>\n",
       "    </tr>\n",
       "    <tr>\n",
       "      <th>494</th>\n",
       "      <td>Explosions/Remote violence</td>\n",
       "      <td>Air/drone strike</td>\n",
       "      <td>2021-10-31</td>\n",
       "      <td>Sagaing</td>\n",
       "      <td>0</td>\n",
       "      <td>2</td>\n",
       "    </tr>\n",
       "    <tr>\n",
       "      <th>676</th>\n",
       "      <td>Explosions/Remote violence</td>\n",
       "      <td>Grenade</td>\n",
       "      <td>2021-10-31</td>\n",
       "      <td>Sagaing</td>\n",
       "      <td>0</td>\n",
       "      <td>3</td>\n",
       "    </tr>\n",
       "    <tr>\n",
       "      <th>932</th>\n",
       "      <td>Explosions/Remote violence</td>\n",
       "      <td>Remote explosive/landmine/IED</td>\n",
       "      <td>2021-10-31</td>\n",
       "      <td>Sagaing</td>\n",
       "      <td>288</td>\n",
       "      <td>106</td>\n",
       "    </tr>\n",
       "    <tr>\n",
       "      <th>1305</th>\n",
       "      <td>Explosions/Remote violence</td>\n",
       "      <td>Shelling/artillery/missile attack</td>\n",
       "      <td>2021-10-31</td>\n",
       "      <td>Sagaing</td>\n",
       "      <td>0</td>\n",
       "      <td>7</td>\n",
       "    </tr>\n",
       "    <tr>\n",
       "      <th>1782</th>\n",
       "      <td>Protests</td>\n",
       "      <td>Peaceful protest</td>\n",
       "      <td>2021-10-31</td>\n",
       "      <td>Sagaing</td>\n",
       "      <td>0</td>\n",
       "      <td>93</td>\n",
       "    </tr>\n",
       "    <tr>\n",
       "      <th>2130</th>\n",
       "      <td>Violence against civilians</td>\n",
       "      <td>Abduction/forced disappearance</td>\n",
       "      <td>2021-10-31</td>\n",
       "      <td>Sagaing</td>\n",
       "      <td>0</td>\n",
       "      <td>2</td>\n",
       "    </tr>\n",
       "    <tr>\n",
       "      <th>2452</th>\n",
       "      <td>Violence against civilians</td>\n",
       "      <td>Attack</td>\n",
       "      <td>2021-10-31</td>\n",
       "      <td>Sagaing</td>\n",
       "      <td>86</td>\n",
       "      <td>70</td>\n",
       "    </tr>\n",
       "  </tbody>\n",
       "</table>\n",
       "</div>"
      ],
      "text/plain": [
       "                      event_type                     sub_event_type  \\\n",
       "167                      Battles                        Armed clash   \n",
       "494   Explosions/Remote violence                   Air/drone strike   \n",
       "676   Explosions/Remote violence                            Grenade   \n",
       "932   Explosions/Remote violence      Remote explosive/landmine/IED   \n",
       "1305  Explosions/Remote violence  Shelling/artillery/missile attack   \n",
       "1782                    Protests                   Peaceful protest   \n",
       "2130  Violence against civilians     Abduction/forced disappearance   \n",
       "2452  Violence against civilians                             Attack   \n",
       "\n",
       "     event_date       ST  sum  count  \n",
       "167  2021-10-31  Sagaing  451     59  \n",
       "494  2021-10-31  Sagaing    0      2  \n",
       "676  2021-10-31  Sagaing    0      3  \n",
       "932  2021-10-31  Sagaing  288    106  \n",
       "1305 2021-10-31  Sagaing    0      7  \n",
       "1782 2021-10-31  Sagaing    0     93  \n",
       "2130 2021-10-31  Sagaing    0      2  \n",
       "2452 2021-10-31  Sagaing   86     70  "
      ]
     },
     "execution_count": 67,
     "metadata": {},
     "output_type": "execute_result"
    }
   ],
   "source": [
    "acled_adm2_disagg[\n",
    "    (acled_adm2_disagg[\"ST\"] == \"Sagaing\")\n",
    "    & (acled_adm2_disagg[\"event_date\"] == \"2021-10-31\")\n",
    "]"
   ]
  },
  {
   "cell_type": "code",
   "execution_count": 68,
   "metadata": {},
   "outputs": [
    {
     "data": {
      "text/html": [
       "<div>\n",
       "<style scoped>\n",
       "    .dataframe tbody tr th:only-of-type {\n",
       "        vertical-align: middle;\n",
       "    }\n",
       "\n",
       "    .dataframe tbody tr th {\n",
       "        vertical-align: top;\n",
       "    }\n",
       "\n",
       "    .dataframe thead th {\n",
       "        text-align: right;\n",
       "    }\n",
       "</style>\n",
       "<table border=\"1\" class=\"dataframe\">\n",
       "  <thead>\n",
       "    <tr style=\"text-align: right;\">\n",
       "      <th></th>\n",
       "      <th>event_type</th>\n",
       "      <th>sub_event_type</th>\n",
       "      <th>event_date</th>\n",
       "      <th>ST</th>\n",
       "      <th>sum</th>\n",
       "      <th>count</th>\n",
       "    </tr>\n",
       "  </thead>\n",
       "  <tbody>\n",
       "    <tr>\n",
       "      <th>293</th>\n",
       "      <td>Battles</td>\n",
       "      <td>Armed clash</td>\n",
       "      <td>2022-06-30</td>\n",
       "      <td>Sagaing</td>\n",
       "      <td>644</td>\n",
       "      <td>111</td>\n",
       "    </tr>\n",
       "    <tr>\n",
       "      <th>529</th>\n",
       "      <td>Explosions/Remote violence</td>\n",
       "      <td>Air/drone strike</td>\n",
       "      <td>2022-06-30</td>\n",
       "      <td>Sagaing</td>\n",
       "      <td>15</td>\n",
       "      <td>8</td>\n",
       "    </tr>\n",
       "    <tr>\n",
       "      <th>721</th>\n",
       "      <td>Explosions/Remote violence</td>\n",
       "      <td>Grenade</td>\n",
       "      <td>2022-06-30</td>\n",
       "      <td>Sagaing</td>\n",
       "      <td>0</td>\n",
       "      <td>2</td>\n",
       "    </tr>\n",
       "    <tr>\n",
       "      <th>1063</th>\n",
       "      <td>Explosions/Remote violence</td>\n",
       "      <td>Remote explosive/landmine/IED</td>\n",
       "      <td>2022-06-30</td>\n",
       "      <td>Sagaing</td>\n",
       "      <td>172</td>\n",
       "      <td>68</td>\n",
       "    </tr>\n",
       "    <tr>\n",
       "      <th>1389</th>\n",
       "      <td>Explosions/Remote violence</td>\n",
       "      <td>Shelling/artillery/missile attack</td>\n",
       "      <td>2022-06-30</td>\n",
       "      <td>Sagaing</td>\n",
       "      <td>21</td>\n",
       "      <td>39</td>\n",
       "    </tr>\n",
       "    <tr>\n",
       "      <th>1851</th>\n",
       "      <td>Protests</td>\n",
       "      <td>Peaceful protest</td>\n",
       "      <td>2022-06-30</td>\n",
       "      <td>Sagaing</td>\n",
       "      <td>0</td>\n",
       "      <td>103</td>\n",
       "    </tr>\n",
       "    <tr>\n",
       "      <th>2191</th>\n",
       "      <td>Violence against civilians</td>\n",
       "      <td>Abduction/forced disappearance</td>\n",
       "      <td>2022-06-30</td>\n",
       "      <td>Sagaing</td>\n",
       "      <td>0</td>\n",
       "      <td>8</td>\n",
       "    </tr>\n",
       "    <tr>\n",
       "      <th>2578</th>\n",
       "      <td>Violence against civilians</td>\n",
       "      <td>Attack</td>\n",
       "      <td>2022-06-30</td>\n",
       "      <td>Sagaing</td>\n",
       "      <td>118</td>\n",
       "      <td>55</td>\n",
       "    </tr>\n",
       "    <tr>\n",
       "      <th>2746</th>\n",
       "      <td>Violence against civilians</td>\n",
       "      <td>Sexual violence</td>\n",
       "      <td>2022-06-30</td>\n",
       "      <td>Sagaing</td>\n",
       "      <td>0</td>\n",
       "      <td>1</td>\n",
       "    </tr>\n",
       "  </tbody>\n",
       "</table>\n",
       "</div>"
      ],
      "text/plain": [
       "                      event_type                     sub_event_type  \\\n",
       "293                      Battles                        Armed clash   \n",
       "529   Explosions/Remote violence                   Air/drone strike   \n",
       "721   Explosions/Remote violence                            Grenade   \n",
       "1063  Explosions/Remote violence      Remote explosive/landmine/IED   \n",
       "1389  Explosions/Remote violence  Shelling/artillery/missile attack   \n",
       "1851                    Protests                   Peaceful protest   \n",
       "2191  Violence against civilians     Abduction/forced disappearance   \n",
       "2578  Violence against civilians                             Attack   \n",
       "2746  Violence against civilians                    Sexual violence   \n",
       "\n",
       "     event_date       ST  sum  count  \n",
       "293  2022-06-30  Sagaing  644    111  \n",
       "529  2022-06-30  Sagaing   15      8  \n",
       "721  2022-06-30  Sagaing    0      2  \n",
       "1063 2022-06-30  Sagaing  172     68  \n",
       "1389 2022-06-30  Sagaing   21     39  \n",
       "1851 2022-06-30  Sagaing    0    103  \n",
       "2191 2022-06-30  Sagaing    0      8  \n",
       "2578 2022-06-30  Sagaing  118     55  \n",
       "2746 2022-06-30  Sagaing    0      1  "
      ]
     },
     "execution_count": 68,
     "metadata": {},
     "output_type": "execute_result"
    }
   ],
   "source": [
    "acled_adm2_disagg[\n",
    "    (acled_adm2_disagg[\"ST\"] == \"Sagaing\")\n",
    "    & (acled_adm2_disagg[\"event_date\"] == \"2022-06-30\")\n",
    "]"
   ]
  },
  {
   "cell_type": "code",
   "execution_count": 70,
   "metadata": {},
   "outputs": [
    {
     "data": {
      "text/html": [
       "<div>\n",
       "<style scoped>\n",
       "    .dataframe tbody tr th:only-of-type {\n",
       "        vertical-align: middle;\n",
       "    }\n",
       "\n",
       "    .dataframe tbody tr th {\n",
       "        vertical-align: top;\n",
       "    }\n",
       "\n",
       "    .dataframe thead th {\n",
       "        text-align: right;\n",
       "    }\n",
       "</style>\n",
       "<table border=\"1\" class=\"dataframe\">\n",
       "  <thead>\n",
       "    <tr style=\"text-align: right;\">\n",
       "      <th></th>\n",
       "      <th>event_type</th>\n",
       "      <th>sub_event_type</th>\n",
       "      <th>event_date</th>\n",
       "      <th>ST</th>\n",
       "      <th>sum</th>\n",
       "      <th>count</th>\n",
       "    </tr>\n",
       "  </thead>\n",
       "  <tbody>\n",
       "    <tr>\n",
       "      <th>355</th>\n",
       "      <td>Battles</td>\n",
       "      <td>Armed clash</td>\n",
       "      <td>2022-10-31</td>\n",
       "      <td>Sagaing</td>\n",
       "      <td>202</td>\n",
       "      <td>82</td>\n",
       "    </tr>\n",
       "    <tr>\n",
       "      <th>564</th>\n",
       "      <td>Explosions/Remote violence</td>\n",
       "      <td>Air/drone strike</td>\n",
       "      <td>2022-10-31</td>\n",
       "      <td>Sagaing</td>\n",
       "      <td>8</td>\n",
       "      <td>31</td>\n",
       "    </tr>\n",
       "    <tr>\n",
       "      <th>742</th>\n",
       "      <td>Explosions/Remote violence</td>\n",
       "      <td>Grenade</td>\n",
       "      <td>2022-10-31</td>\n",
       "      <td>Sagaing</td>\n",
       "      <td>10</td>\n",
       "      <td>5</td>\n",
       "    </tr>\n",
       "    <tr>\n",
       "      <th>1125</th>\n",
       "      <td>Explosions/Remote violence</td>\n",
       "      <td>Remote explosive/landmine/IED</td>\n",
       "      <td>2022-10-31</td>\n",
       "      <td>Sagaing</td>\n",
       "      <td>108</td>\n",
       "      <td>45</td>\n",
       "    </tr>\n",
       "    <tr>\n",
       "      <th>1440</th>\n",
       "      <td>Explosions/Remote violence</td>\n",
       "      <td>Shelling/artillery/missile attack</td>\n",
       "      <td>2022-10-31</td>\n",
       "      <td>Sagaing</td>\n",
       "      <td>10</td>\n",
       "      <td>26</td>\n",
       "    </tr>\n",
       "    <tr>\n",
       "      <th>1874</th>\n",
       "      <td>Protests</td>\n",
       "      <td>Peaceful protest</td>\n",
       "      <td>2022-10-31</td>\n",
       "      <td>Sagaing</td>\n",
       "      <td>0</td>\n",
       "      <td>86</td>\n",
       "    </tr>\n",
       "    <tr>\n",
       "      <th>2223</th>\n",
       "      <td>Violence against civilians</td>\n",
       "      <td>Abduction/forced disappearance</td>\n",
       "      <td>2022-10-31</td>\n",
       "      <td>Sagaing</td>\n",
       "      <td>0</td>\n",
       "      <td>7</td>\n",
       "    </tr>\n",
       "    <tr>\n",
       "      <th>2637</th>\n",
       "      <td>Violence against civilians</td>\n",
       "      <td>Attack</td>\n",
       "      <td>2022-10-31</td>\n",
       "      <td>Sagaing</td>\n",
       "      <td>47</td>\n",
       "      <td>23</td>\n",
       "    </tr>\n",
       "  </tbody>\n",
       "</table>\n",
       "</div>"
      ],
      "text/plain": [
       "                      event_type                     sub_event_type  \\\n",
       "355                      Battles                        Armed clash   \n",
       "564   Explosions/Remote violence                   Air/drone strike   \n",
       "742   Explosions/Remote violence                            Grenade   \n",
       "1125  Explosions/Remote violence      Remote explosive/landmine/IED   \n",
       "1440  Explosions/Remote violence  Shelling/artillery/missile attack   \n",
       "1874                    Protests                   Peaceful protest   \n",
       "2223  Violence against civilians     Abduction/forced disappearance   \n",
       "2637  Violence against civilians                             Attack   \n",
       "\n",
       "     event_date       ST  sum  count  \n",
       "355  2022-10-31  Sagaing  202     82  \n",
       "564  2022-10-31  Sagaing    8     31  \n",
       "742  2022-10-31  Sagaing   10      5  \n",
       "1125 2022-10-31  Sagaing  108     45  \n",
       "1440 2022-10-31  Sagaing   10     26  \n",
       "1874 2022-10-31  Sagaing    0     86  \n",
       "2223 2022-10-31  Sagaing    0      7  \n",
       "2637 2022-10-31  Sagaing   47     23  "
      ]
     },
     "execution_count": 70,
     "metadata": {},
     "output_type": "execute_result"
    }
   ],
   "source": [
    "acled_adm2_disagg[\n",
    "    (acled_adm2_disagg[\"ST\"] == \"Sagaing\")\n",
    "    & (acled_adm2_disagg[\"event_date\"] == \"2022-10-31\")\n",
    "]"
   ]
  }
 ],
 "metadata": {
  "kernelspec": {
   "display_name": "turkey-rdna",
   "language": "python",
   "name": "python3"
  },
  "language_info": {
   "codemirror_mode": {
    "name": "ipython",
    "version": 3
   },
   "file_extension": ".py",
   "mimetype": "text/x-python",
   "name": "python",
   "nbconvert_exporter": "python",
   "pygments_lexer": "ipython3",
   "version": "3.10.10"
  },
  "orig_nbformat": 4
 },
 "nbformat": 4,
 "nbformat_minor": 2
}
