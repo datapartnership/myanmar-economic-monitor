{
 "cells": [
  {
   "cell_type": "code",
   "execution_count": null,
   "id": "b514e1fb",
   "metadata": {},
   "outputs": [],
   "source": [
    "import pandas as pd"
   ]
  },
  {
   "cell_type": "markdown",
   "id": "2ffed2fc",
   "metadata": {},
   "source": [
    "# NO2 Exploratory Analysis\n",
    "\n",
    "----"
   ]
  },
  {
   "cell_type": "code",
   "execution_count": null,
   "id": "466d4ec5",
   "metadata": {
    "tags": [
     "remove-input"
    ]
   },
   "outputs": [],
   "source": [
    "mmr_no2 = pd.read_csv(\"../../data/airpollution/myanmar_no2.csv\")"
   ]
  },
  {
   "cell_type": "code",
   "execution_count": null,
   "id": "4d7d33d6",
   "metadata": {},
   "outputs": [],
   "source": [
    "mmr_industrial"
   ]
  }
 ],
 "metadata": {
  "kernelspec": {
   "display_name": ".venv (3.14.0)",
   "language": "python",
   "name": "python3"
  },
  "language_info": {
   "name": "python",
   "version": "3.14.0"
  }
 },
 "nbformat": 4,
 "nbformat_minor": 5
}
