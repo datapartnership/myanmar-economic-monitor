{
 "cells": [
  {
   "cell_type": "code",
   "execution_count": 3,
   "metadata": {},
   "outputs": [],
   "source": [
    "import pandas as pd\n",
    "import matplotlib.pyplot as plt"
   ]
  },
  {
   "cell_type": "code",
   "execution_count": 7,
   "metadata": {},
   "outputs": [],
   "source": [
    "df = pd.read_csv('../../data/Myanmar GDP.csv')"
   ]
  },
  {
   "cell_type": "code",
   "execution_count": 10,
   "metadata": {},
   "outputs": [],
   "source": [
    "df['Quarter'] = df['Quarter'].apply(lambda x: pd.to_datetime(x))"
   ]
  },
  {
   "cell_type": "code",
   "execution_count": 36,
   "metadata": {},
   "outputs": [],
   "source": [
    "df['GDP']=df['GDP']/1000000"
   ]
  },
  {
   "cell_type": "code",
   "execution_count": 39,
   "metadata": {},
   "outputs": [],
   "source": [
    "import numpy as np\n",
    "df['GDP'] = df['GDP'].apply(lambda x: np.round(x,2))"
   ]
  },
  {
   "cell_type": "code",
   "execution_count": 45,
   "metadata": {},
   "outputs": [],
   "source": [
    "from bokeh.plotting import figure, output_file, show\n",
    "from bokeh.models import ColumnDataSource\n",
    "from bokeh.palettes import Spectral6\n",
    "\n",
    "# Define data\n",
    "categories = df['Quarter']\n",
    "values = df['GDP']\n",
    "\n",
    "# Create a ColumnDataSource object\n",
    "source = ColumnDataSource(data=dict(categories=categories, values=values))\n",
    "\n",
    "# Set up the plot\n",
    "output_file(\"bar_plot.html\")\n",
    "p = figure(x_axis_type='datetime', height=350, title=\"Myanmar Quarterly GDP\")\n",
    "\n",
    "# Add bars\n",
    "p.vbar(x='categories', top='values', width=10000*170000, color='lightblue', source=source)\n",
    "\n",
    "# # Add text displaying values on top of bars\n",
    "# p.text(x='categories', y='values', text='values', text_align='center', text_baseline='middle', source=source)\n",
    "\n",
    "\n",
    "# Customize plot\n",
    "p.xgrid.grid_line_color = None\n",
    "p.y_range.start = 0\n",
    "p.yaxis.axis_label = \"GDP (Trillion Myanmar Kyat)\"\n",
    "p.xaxis.axis_label = \"Quarters\"\n",
    "\n",
    "# Show the plot\n",
    "show(p)\n"
   ]
  },
  {
   "cell_type": "code",
   "execution_count": 17,
   "metadata": {},
   "outputs": [
    {
     "data": {
      "text/plain": [
       "<BarContainer object of 4 artists>"
      ]
     },
     "execution_count": 17,
     "metadata": {},
     "output_type": "execute_result"
    },
    {
     "data": {
      "image/png": "[encoded data removed]",
      "text/plain": [
       "<Figure size 640x480 with 1 Axes>"
      ]
     },
     "metadata": {},
     "output_type": "display_data"
    }
   ],
   "source": [
    "plt.bar(df['Quarter'], df['GDP'], width=20)"
   ]
  }
 ],
 "metadata": {
  "kernelspec": {
   "display_name": "data-goods",
   "language": "python",
   "name": "python3"
  },
  "language_info": {
   "codemirror_mode": {
    "name": "ipython",
    "version": 3
   },
   "file_extension": ".py",
   "mimetype": "text/x-python",
   "name": "python",
   "nbconvert_exporter": "python",
   "pygments_lexer": "ipython3",
   "version": "3.11.9"
  }
 },
 "nbformat": 4,
 "nbformat_minor": 2
}
