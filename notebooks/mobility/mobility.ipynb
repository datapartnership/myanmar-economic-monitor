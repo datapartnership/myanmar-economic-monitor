{
 "cells": [
  {
   "cell_type": "markdown",
   "id": "e3812d08-7895-43e9-8974-47b53c38b809",
   "metadata": {},
   "source": [
    "# Activity proxies in Myanmar\n",
    "## Introduction\n",
    "This document present an analysis of Veraset data to be used as an estimation of Mobility in Myanmar"
   ]
  },
  {
   "cell_type": "code",
   "execution_count": 1,
   "id": "2f148e0a-5e4a-4d56-89a6-782648b18459",
   "metadata": {},
   "outputs": [],
   "source": [
    "import pandas as pd\n",
    "import dask.dataframe as dd\n",
    "from datetime import timedelta\n",
    "import plotly.express as px\n",
    "import pyarrow as pa"
   ]
  },
  {
   "cell_type": "code",
   "execution_count": 2,
   "id": "dfda3a3d-4463-4740-904d-baa606cc5bb3",
   "metadata": {},
   "outputs": [],
   "source": [
    "profile = \"S3DataPartnership438\"\n",
    "path = \"s3://wbgggscecovid19dev-mobility/veraset/country=MM/year=*/date=*/*.parquet\"\n",
    "columns = [\"uid\", \"datetime\"]\n",
    "ddf = dd.read_parquet(path, storage_options={\"profile\": profile}, columns=columns)"
   ]
  },
  {
   "cell_type": "code",
   "execution_count": 3,
   "id": "969dd7dd-62d8-4c8a-845c-17f822731c11",
   "metadata": {},
   "outputs": [],
   "source": [
    "def to_local_time(df, hours, minutes, datetime_col):\n",
    "    df[\"local_time\"] = pd.to_datetime(df[datetime_col]) + timedelta(\n",
    "        hours=hours, minutes=minutes\n",
    "    )\n",
    "    df[\"time_of_day\"] = df.local_time.dt.time\n",
    "    df[\"date\"] = df.local_time.dt.date\n",
    "    return df"
   ]
  },
  {
   "cell_type": "code",
   "execution_count": 4,
   "id": "ed29e532-74e0-45c3-9ad1-7a71006226d4",
   "metadata": {},
   "outputs": [],
   "source": [
    "ddf = ddf.map_partitions(to_local_time, 6, 30, \"datetime\")"
   ]
  },
  {
   "cell_type": "code",
   "execution_count": 5,
   "id": "105d4930-79d4-4433-a505-66725be2156f",
   "metadata": {},
   "outputs": [],
   "source": [
    "ddf_no_dup = ddf.drop_duplicates([\"uid\", \"date\"])"
   ]
  },
  {
   "cell_type": "code",
   "execution_count": null,
   "id": "5b6b9cf6-8d1f-4d61-bc39-8ae2033751da",
   "metadata": {},
   "outputs": [],
   "source": [
    "agg_by_day = ddf_no_dup.groupby(\"date\").size().reset_index().compute()"
   ]
  },
  {
   "cell_type": "code",
   "execution_count": null,
   "id": "abe349ea-b976-4b01-af55-81265a97b03f",
   "metadata": {},
   "outputs": [],
   "source": [
    "agg_by_day[\"date\"] = pa.compute.cast(agg_by_day[\"date\"].tolist(), pa.timestamp(\"s\"))"
   ]
  },
  {
   "cell_type": "code",
   "execution_count": null,
   "id": "0bf12572-439a-44d1-9c14-72f5d24839b0",
   "metadata": {},
   "outputs": [],
   "source": [
    "fig = px.line(\n",
    "    agg_by_day.reset_index(),\n",
    "    x=\"date\",\n",
    "    y=\"Users\",\n",
    "    title=\"Veraset users by day in Myanmar\",\n",
    ")\n",
    "fig.update_yaxes(title_text=\"Number of users\")\n",
    "fig.show()"
   ]
  },
  {
   "cell_type": "code",
   "execution_count": null,
   "id": "16f5ce9c-0e03-465a-86f6-7b6b115bf0a4",
   "metadata": {},
   "outputs": [],
   "source": []
  },
  {
   "cell_type": "code",
   "execution_count": null,
   "id": "53c3ef45-ca31-43d9-8731-282f22c7d0da",
   "metadata": {},
   "outputs": [],
   "source": []
  },
  {
   "cell_type": "code",
   "execution_count": null,
   "id": "3014fcd5-ed07-4561-b469-5f5b02d9434e",
   "metadata": {},
   "outputs": [],
   "source": []
  }
 ],
 "metadata": {
  "kernelspec": {
   "display_name": "venv",
   "language": "python",
   "name": "venv"
  },
  "language_info": {
   "codemirror_mode": {
    "name": "ipython",
    "version": 3
   },
   "file_extension": ".py",
   "mimetype": "text/x-python",
   "name": "python",
   "nbconvert_exporter": "python",
   "pygments_lexer": "ipython3",
   "version": "3.10.12"
  }
 },
 "nbformat": 4,
 "nbformat_minor": 5
}
